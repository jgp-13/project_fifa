{
 "cells": [
  {
   "cell_type": "markdown",
   "id": "7cd55ae3-3db1-40a8-887d-46f46acd2196",
   "metadata": {},
   "source": [
    "# Project FIFA"
   ]
  },
  {
   "cell_type": "markdown",
   "id": "69ab5b86-e426-4a99-95a1-4def79f368a8",
   "metadata": {},
   "source": [
    "## Hypothesis testing with \"Men's\" and Women's Football Matches"
   ]
  },
  {
   "cell_type": "markdown",
   "id": "e7ac34f0-ccd6-490a-8805-bec9724c0a28",
   "metadata": {},
   "source": [
    "### Summary\n",
    "Perform an appropriate hypothesis test to determine the p-value, and hence result, of whether to reject or fail to reject the null hypothesis that the *mean number of goals scored in women's international soccer matches is the same as men's*. Use a **10% significance level**.\n",
    "\n",
    "For this analysis, you'll use Official `FIFA World Cup` matches since `2002-01-01`, and you'll also assume that each match is fully independent, i.e., team form is ignored.\n",
    "\n",
    "The p-value and the result of the test must be stored in a dictionary called `result_dict` in the form:\n",
    "\n",
    "```result_dict = {\"p_val\": p_val, \"result\": result}```\n",
    "\n",
    "where `p_val` is the `p-value` and `result` is either the string `\"fail to reject\"` or `\"reject\"`, depending on the result of the test."
   ]
  },
  {
   "cell_type": "markdown",
   "id": "e3dad662-0478-43e5-bb5a-cb8cd309f9bc",
   "metadata": {},
   "source": [
    "### Introduction"
   ]
  },
  {
   "cell_type": "markdown",
   "id": "3ed0edb2-696b-49ab-9db0-681defcce695",
   "metadata": {},
   "source": [
    "![A soccer pitch for an international match.](soccer-pitch.jpg)\n",
    "\n",
    "You're working as a sports journalist at a major online sports media company, specializing in soccer analysis and reporting. You've been watching both men's and women's international soccer matches for a number of years, and your gut instinct tells you that more goals are scored in women's international football matches than men's. This would make an interesting investigative article that your subscribers are bound to love, but you'll need to perform a valid statistical hypothesis test to be sure!\n",
    "\n",
    "While scoping this project, you acknowledge that the sport has changed a lot over the years, and performances likely vary a lot depending on the tournament, so you decide to limit the data used in the analysis to only official `FIFA World Cup` matches (not including qualifiers) since `2002-01-01`.\n",
    "\n",
    "You create two datasets containing the results of every official men's and women's international football match since the 19th century, which you scraped from a reliable online source. This data is stored in two CSV files: `women_results.csv` and `men_results.csv`.\n",
    "\n",
    "The question you are trying to determine the answer to is:\n",
    "\n",
    "> Are more goals scored in women's international soccer matches than men's?\n",
    "\n",
    "You assume a **10% significance level**, and use the following null and alternative hypotheses:\n",
    "\n",
    "$H_0$ : The mean number of goals scored in women's international soccer matches is the same as men's.\n",
    "\n",
    "$H_A$ : The mean number of goals scored in women's international soccer matches is greater than men's."
   ]
  },
  {
   "cell_type": "code",
   "execution_count": 1,
   "id": "84a3c4c8-534b-4d1a-9919-17e05208b2ca",
   "metadata": {},
   "outputs": [],
   "source": [
    "import pandas as pd\n",
    "import numpy as np\n",
    "import datetime as dt\n",
    "import matplotlib.pyplot as plt\n",
    "import seaborn as sns\n",
    "import pingouin"
   ]
  },
  {
   "cell_type": "code",
   "execution_count": 2,
   "id": "38c6c85b-f2f0-4de3-adf1-bb6bbba4676c",
   "metadata": {},
   "outputs": [],
   "source": [
    "file_XY='./men_results.csv'\n",
    "df_XY=pd.read_csv(file_XY,index_col=0)\n",
    "file_XX='./women_results.csv'\n",
    "df_XX=pd.read_csv(file_XX,index_col=0)"
   ]
  },
  {
   "cell_type": "markdown",
   "id": "58cc4e45-df33-40f2-957a-e8acbac14913",
   "metadata": {},
   "source": [
    "### Exploratory on MEN (i.e. XY) file"
   ]
  },
  {
   "cell_type": "code",
   "execution_count": 3,
   "id": "3b6fa997-6caf-47be-9c20-aeb51a5090d9",
   "metadata": {},
   "outputs": [
    {
     "data": {
      "text/html": [
       "<div>\n",
       "<style scoped>\n",
       "    .dataframe tbody tr th:only-of-type {\n",
       "        vertical-align: middle;\n",
       "    }\n",
       "\n",
       "    .dataframe tbody tr th {\n",
       "        vertical-align: top;\n",
       "    }\n",
       "\n",
       "    .dataframe thead th {\n",
       "        text-align: right;\n",
       "    }\n",
       "</style>\n",
       "<table border=\"1\" class=\"dataframe\">\n",
       "  <thead>\n",
       "    <tr style=\"text-align: right;\">\n",
       "      <th></th>\n",
       "      <th>date</th>\n",
       "      <th>home_team</th>\n",
       "      <th>away_team</th>\n",
       "      <th>home_score</th>\n",
       "      <th>away_score</th>\n",
       "      <th>tournament</th>\n",
       "    </tr>\n",
       "  </thead>\n",
       "  <tbody>\n",
       "    <tr>\n",
       "      <th>0</th>\n",
       "      <td>1872-11-30</td>\n",
       "      <td>Scotland</td>\n",
       "      <td>England</td>\n",
       "      <td>0</td>\n",
       "      <td>0</td>\n",
       "      <td>Friendly</td>\n",
       "    </tr>\n",
       "    <tr>\n",
       "      <th>1</th>\n",
       "      <td>1873-03-08</td>\n",
       "      <td>England</td>\n",
       "      <td>Scotland</td>\n",
       "      <td>4</td>\n",
       "      <td>2</td>\n",
       "      <td>Friendly</td>\n",
       "    </tr>\n",
       "    <tr>\n",
       "      <th>2</th>\n",
       "      <td>1874-03-07</td>\n",
       "      <td>Scotland</td>\n",
       "      <td>England</td>\n",
       "      <td>2</td>\n",
       "      <td>1</td>\n",
       "      <td>Friendly</td>\n",
       "    </tr>\n",
       "    <tr>\n",
       "      <th>3</th>\n",
       "      <td>1875-03-06</td>\n",
       "      <td>England</td>\n",
       "      <td>Scotland</td>\n",
       "      <td>2</td>\n",
       "      <td>2</td>\n",
       "      <td>Friendly</td>\n",
       "    </tr>\n",
       "    <tr>\n",
       "      <th>4</th>\n",
       "      <td>1876-03-04</td>\n",
       "      <td>Scotland</td>\n",
       "      <td>England</td>\n",
       "      <td>3</td>\n",
       "      <td>0</td>\n",
       "      <td>Friendly</td>\n",
       "    </tr>\n",
       "  </tbody>\n",
       "</table>\n",
       "</div>"
      ],
      "text/plain": [
       "         date home_team away_team  home_score  away_score tournament\n",
       "0  1872-11-30  Scotland   England           0           0   Friendly\n",
       "1  1873-03-08   England  Scotland           4           2   Friendly\n",
       "2  1874-03-07  Scotland   England           2           1   Friendly\n",
       "3  1875-03-06   England  Scotland           2           2   Friendly\n",
       "4  1876-03-04  Scotland   England           3           0   Friendly"
      ]
     },
     "execution_count": 3,
     "metadata": {},
     "output_type": "execute_result"
    }
   ],
   "source": [
    "df_XY.head()"
   ]
  },
  {
   "cell_type": "code",
   "execution_count": 4,
   "id": "9e5dae26-ad78-49a9-9ca1-6b4f7038e295",
   "metadata": {},
   "outputs": [],
   "source": [
    "df_XY['date']=pd.to_datetime(df_XY['date'],format='%Y-%m-%d') # To transform the date into datetime"
   ]
  },
  {
   "cell_type": "code",
   "execution_count": 5,
   "id": "c9e8b9bc-12c4-4e8e-b658-4ecdc37dbb23",
   "metadata": {},
   "outputs": [
    {
     "name": "stdout",
     "output_type": "stream",
     "text": [
      "<class 'pandas.core.frame.DataFrame'>\n",
      "Index: 44353 entries, 0 to 44352\n",
      "Data columns (total 6 columns):\n",
      " #   Column      Non-Null Count  Dtype         \n",
      "---  ------      --------------  -----         \n",
      " 0   date        44353 non-null  datetime64[ns]\n",
      " 1   home_team   44353 non-null  object        \n",
      " 2   away_team   44353 non-null  object        \n",
      " 3   home_score  44353 non-null  int64         \n",
      " 4   away_score  44353 non-null  int64         \n",
      " 5   tournament  44353 non-null  object        \n",
      "dtypes: datetime64[ns](1), int64(2), object(3)\n",
      "memory usage: 2.4+ MB\n"
     ]
    }
   ],
   "source": [
    "df_XY.info()"
   ]
  },
  {
   "cell_type": "markdown",
   "id": "ad4989c9-c527-43e3-891c-0d0a72a295b6",
   "metadata": {},
   "source": [
    "* No null values\n",
    "* Scores in integers"
   ]
  },
  {
   "cell_type": "code",
   "execution_count": 6,
   "id": "b77e7ef4-174b-40bd-8ea3-8bf15d6b5fbd",
   "metadata": {},
   "outputs": [
    {
     "data": {
      "text/html": [
       "<div>\n",
       "<style scoped>\n",
       "    .dataframe tbody tr th:only-of-type {\n",
       "        vertical-align: middle;\n",
       "    }\n",
       "\n",
       "    .dataframe tbody tr th {\n",
       "        vertical-align: top;\n",
       "    }\n",
       "\n",
       "    .dataframe thead th {\n",
       "        text-align: right;\n",
       "    }\n",
       "</style>\n",
       "<table border=\"1\" class=\"dataframe\">\n",
       "  <thead>\n",
       "    <tr style=\"text-align: right;\">\n",
       "      <th></th>\n",
       "      <th>date</th>\n",
       "      <th>home_team</th>\n",
       "      <th>away_team</th>\n",
       "      <th>home_score</th>\n",
       "      <th>away_score</th>\n",
       "      <th>tournament</th>\n",
       "    </tr>\n",
       "  </thead>\n",
       "  <tbody>\n",
       "    <tr>\n",
       "      <th>count</th>\n",
       "      <td>44353</td>\n",
       "      <td>44353</td>\n",
       "      <td>44353</td>\n",
       "      <td>44353.000000</td>\n",
       "      <td>44353.000000</td>\n",
       "      <td>44353</td>\n",
       "    </tr>\n",
       "    <tr>\n",
       "      <th>unique</th>\n",
       "      <td>NaN</td>\n",
       "      <td>311</td>\n",
       "      <td>306</td>\n",
       "      <td>NaN</td>\n",
       "      <td>NaN</td>\n",
       "      <td>141</td>\n",
       "    </tr>\n",
       "    <tr>\n",
       "      <th>top</th>\n",
       "      <td>NaN</td>\n",
       "      <td>Brazil</td>\n",
       "      <td>Uruguay</td>\n",
       "      <td>NaN</td>\n",
       "      <td>NaN</td>\n",
       "      <td>Friendly</td>\n",
       "    </tr>\n",
       "    <tr>\n",
       "      <th>freq</th>\n",
       "      <td>NaN</td>\n",
       "      <td>594</td>\n",
       "      <td>560</td>\n",
       "      <td>NaN</td>\n",
       "      <td>NaN</td>\n",
       "      <td>17519</td>\n",
       "    </tr>\n",
       "    <tr>\n",
       "      <th>mean</th>\n",
       "      <td>1992-06-23 17:28:36.763240320</td>\n",
       "      <td>NaN</td>\n",
       "      <td>NaN</td>\n",
       "      <td>1.740559</td>\n",
       "      <td>1.178793</td>\n",
       "      <td>NaN</td>\n",
       "    </tr>\n",
       "    <tr>\n",
       "      <th>min</th>\n",
       "      <td>1872-11-30 00:00:00</td>\n",
       "      <td>NaN</td>\n",
       "      <td>NaN</td>\n",
       "      <td>0.000000</td>\n",
       "      <td>0.000000</td>\n",
       "      <td>NaN</td>\n",
       "    </tr>\n",
       "    <tr>\n",
       "      <th>25%</th>\n",
       "      <td>1979-05-13 00:00:00</td>\n",
       "      <td>NaN</td>\n",
       "      <td>NaN</td>\n",
       "      <td>1.000000</td>\n",
       "      <td>0.000000</td>\n",
       "      <td>NaN</td>\n",
       "    </tr>\n",
       "    <tr>\n",
       "      <th>50%</th>\n",
       "      <td>1999-03-11 00:00:00</td>\n",
       "      <td>NaN</td>\n",
       "      <td>NaN</td>\n",
       "      <td>1.000000</td>\n",
       "      <td>1.000000</td>\n",
       "      <td>NaN</td>\n",
       "    </tr>\n",
       "    <tr>\n",
       "      <th>75%</th>\n",
       "      <td>2011-03-25 00:00:00</td>\n",
       "      <td>NaN</td>\n",
       "      <td>NaN</td>\n",
       "      <td>2.000000</td>\n",
       "      <td>2.000000</td>\n",
       "      <td>NaN</td>\n",
       "    </tr>\n",
       "    <tr>\n",
       "      <th>max</th>\n",
       "      <td>2022-12-18 00:00:00</td>\n",
       "      <td>NaN</td>\n",
       "      <td>NaN</td>\n",
       "      <td>31.000000</td>\n",
       "      <td>21.000000</td>\n",
       "      <td>NaN</td>\n",
       "    </tr>\n",
       "    <tr>\n",
       "      <th>std</th>\n",
       "      <td>NaN</td>\n",
       "      <td>NaN</td>\n",
       "      <td>NaN</td>\n",
       "      <td>1.748722</td>\n",
       "      <td>1.394580</td>\n",
       "      <td>NaN</td>\n",
       "    </tr>\n",
       "  </tbody>\n",
       "</table>\n",
       "</div>"
      ],
      "text/plain": [
       "                                 date home_team away_team    home_score  \\\n",
       "count                           44353     44353     44353  44353.000000   \n",
       "unique                            NaN       311       306           NaN   \n",
       "top                               NaN    Brazil   Uruguay           NaN   \n",
       "freq                              NaN       594       560           NaN   \n",
       "mean    1992-06-23 17:28:36.763240320       NaN       NaN      1.740559   \n",
       "min               1872-11-30 00:00:00       NaN       NaN      0.000000   \n",
       "25%               1979-05-13 00:00:00       NaN       NaN      1.000000   \n",
       "50%               1999-03-11 00:00:00       NaN       NaN      1.000000   \n",
       "75%               2011-03-25 00:00:00       NaN       NaN      2.000000   \n",
       "max               2022-12-18 00:00:00       NaN       NaN     31.000000   \n",
       "std                               NaN       NaN       NaN      1.748722   \n",
       "\n",
       "          away_score tournament  \n",
       "count   44353.000000      44353  \n",
       "unique           NaN        141  \n",
       "top              NaN   Friendly  \n",
       "freq             NaN      17519  \n",
       "mean        1.178793        NaN  \n",
       "min         0.000000        NaN  \n",
       "25%         0.000000        NaN  \n",
       "50%         1.000000        NaN  \n",
       "75%         2.000000        NaN  \n",
       "max        21.000000        NaN  \n",
       "std         1.394580        NaN  "
      ]
     },
     "execution_count": 6,
     "metadata": {},
     "output_type": "execute_result"
    }
   ],
   "source": [
    "df_XY.describe(include='all')"
   ]
  },
  {
   "cell_type": "markdown",
   "id": "c6086087-b296-4928-b1de-47d8f0904738",
   "metadata": {},
   "source": [
    "**NOTE: A further analysis may require:**\n",
    "* **a full check of the team names (`'home_team'` and `'away_team'` columns) and**\n",
    "* **tournament names, `'tournament'` column**"
   ]
  },
  {
   "cell_type": "code",
   "execution_count": 23,
   "id": "601a8170-2904-4455-aabd-15be6281f532",
   "metadata": {},
   "outputs": [
    {
     "data": {
      "text/plain": [
       "tournament\n",
       "Friendly                                17519\n",
       "FIFA World Cup qualification             7878\n",
       "UEFA Euro qualification                  2585\n",
       "African Cup of Nations qualification     1932\n",
       "FIFA World Cup                            964\n",
       "Name: count, dtype: int64"
      ]
     },
     "execution_count": 23,
     "metadata": {},
     "output_type": "execute_result"
    }
   ],
   "source": [
    "df_XY['tournament'].value_counts()[:5]"
   ]
  },
  {
   "cell_type": "markdown",
   "id": "0d964101-6c04-4995-9f70-e4b6022672d1",
   "metadata": {},
   "source": [
    "The database should be filtered to:\n",
    "* columnt `'turnament'` to 'FIFA World Cup' and\n",
    "* `'date'` of year 2002 and above "
   ]
  },
  {
   "cell_type": "code",
   "execution_count": 8,
   "id": "2019c7a5-73ce-44f0-bd1d-abcc03d17582",
   "metadata": {},
   "outputs": [],
   "source": [
    "wc_xy=df_XY[(df_XY['tournament']=='FIFA World Cup')&(df_XY['date']>=dt.datetime(2002,1,1))].reset_index(drop=True)"
   ]
  },
  {
   "cell_type": "markdown",
   "id": "4b6f07bb-641d-4a63-9155-0a99562e0160",
   "metadata": {},
   "source": [
    "* A new column of total goals is required by adding home and away scores.\n",
    "* And analyse the distribution of the data using count plot."
   ]
  },
  {
   "cell_type": "code",
   "execution_count": 9,
   "id": "bc854984-034e-439c-b765-cee7ec8d0c88",
   "metadata": {},
   "outputs": [
    {
     "data": {
      "text/html": [
       "<div>\n",
       "<style scoped>\n",
       "    .dataframe tbody tr th:only-of-type {\n",
       "        vertical-align: middle;\n",
       "    }\n",
       "\n",
       "    .dataframe tbody tr th {\n",
       "        vertical-align: top;\n",
       "    }\n",
       "\n",
       "    .dataframe thead th {\n",
       "        text-align: right;\n",
       "    }\n",
       "</style>\n",
       "<table border=\"1\" class=\"dataframe\">\n",
       "  <thead>\n",
       "    <tr style=\"text-align: right;\">\n",
       "      <th></th>\n",
       "      <th>date</th>\n",
       "      <th>home_team</th>\n",
       "      <th>away_team</th>\n",
       "      <th>home_score</th>\n",
       "      <th>away_score</th>\n",
       "      <th>tournament</th>\n",
       "      <th>total_goals</th>\n",
       "    </tr>\n",
       "  </thead>\n",
       "  <tbody>\n",
       "    <tr>\n",
       "      <th>0</th>\n",
       "      <td>2002-05-31</td>\n",
       "      <td>France</td>\n",
       "      <td>Senegal</td>\n",
       "      <td>0</td>\n",
       "      <td>1</td>\n",
       "      <td>FIFA World Cup</td>\n",
       "      <td>1</td>\n",
       "    </tr>\n",
       "    <tr>\n",
       "      <th>1</th>\n",
       "      <td>2002-06-01</td>\n",
       "      <td>Germany</td>\n",
       "      <td>Saudi Arabia</td>\n",
       "      <td>8</td>\n",
       "      <td>0</td>\n",
       "      <td>FIFA World Cup</td>\n",
       "      <td>8</td>\n",
       "    </tr>\n",
       "    <tr>\n",
       "      <th>2</th>\n",
       "      <td>2002-06-01</td>\n",
       "      <td>Republic of Ireland</td>\n",
       "      <td>Cameroon</td>\n",
       "      <td>1</td>\n",
       "      <td>1</td>\n",
       "      <td>FIFA World Cup</td>\n",
       "      <td>2</td>\n",
       "    </tr>\n",
       "    <tr>\n",
       "      <th>3</th>\n",
       "      <td>2002-06-01</td>\n",
       "      <td>Uruguay</td>\n",
       "      <td>Denmark</td>\n",
       "      <td>1</td>\n",
       "      <td>2</td>\n",
       "      <td>FIFA World Cup</td>\n",
       "      <td>3</td>\n",
       "    </tr>\n",
       "    <tr>\n",
       "      <th>4</th>\n",
       "      <td>2002-06-02</td>\n",
       "      <td>Argentina</td>\n",
       "      <td>Nigeria</td>\n",
       "      <td>1</td>\n",
       "      <td>0</td>\n",
       "      <td>FIFA World Cup</td>\n",
       "      <td>1</td>\n",
       "    </tr>\n",
       "  </tbody>\n",
       "</table>\n",
       "</div>"
      ],
      "text/plain": [
       "        date            home_team     away_team  home_score  away_score  \\\n",
       "0 2002-05-31               France       Senegal           0           1   \n",
       "1 2002-06-01              Germany  Saudi Arabia           8           0   \n",
       "2 2002-06-01  Republic of Ireland      Cameroon           1           1   \n",
       "3 2002-06-01              Uruguay       Denmark           1           2   \n",
       "4 2002-06-02            Argentina       Nigeria           1           0   \n",
       "\n",
       "       tournament  total_goals  \n",
       "0  FIFA World Cup            1  \n",
       "1  FIFA World Cup            8  \n",
       "2  FIFA World Cup            2  \n",
       "3  FIFA World Cup            3  \n",
       "4  FIFA World Cup            1  "
      ]
     },
     "execution_count": 9,
     "metadata": {},
     "output_type": "execute_result"
    }
   ],
   "source": [
    "wc_xy['total_goals']=wc_xy['home_score']+wc_xy['away_score']\n",
    "wc_xy.head()"
   ]
  },
  {
   "cell_type": "code",
   "execution_count": 41,
   "id": "981fb3ac-6415-49ae-bb9d-6473c8fb5035",
   "metadata": {},
   "outputs": [
    {
     "data": {
      "image/png": "[encoded data removed]",
      "text/plain": [
       "<Figure size 640x480 with 1 Axes>"
      ]
     },
     "metadata": {},
     "output_type": "display_data"
    }
   ],
   "source": [
    "ax=sns.countplot(data=wc_xy,x='total_goals', color='pink')\n",
    "ax.set(xlabel='Total goals', ylabel='Count',title='Men goals scored')\n",
    "plt.show()"
   ]
  },
  {
   "cell_type": "markdown",
   "id": "a6a7f365-e030-491f-b473-384c077de4e4",
   "metadata": {},
   "source": [
    "### Exploratory on WOMEN (i.e. XX) file"
   ]
  },
  {
   "cell_type": "markdown",
   "id": "75218f40-cce0-4877-8ac1-f529254dc419",
   "metadata": {},
   "source": [
    "Similar exploratory analysis must be done for ***WOMEN*** i.e. XX"
   ]
  },
  {
   "cell_type": "code",
   "execution_count": 11,
   "id": "95c7928c-9c93-4263-8deb-fea1d657905c",
   "metadata": {},
   "outputs": [
    {
     "data": {
      "text/html": [
       "<div>\n",
       "<style scoped>\n",
       "    .dataframe tbody tr th:only-of-type {\n",
       "        vertical-align: middle;\n",
       "    }\n",
       "\n",
       "    .dataframe tbody tr th {\n",
       "        vertical-align: top;\n",
       "    }\n",
       "\n",
       "    .dataframe thead th {\n",
       "        text-align: right;\n",
       "    }\n",
       "</style>\n",
       "<table border=\"1\" class=\"dataframe\">\n",
       "  <thead>\n",
       "    <tr style=\"text-align: right;\">\n",
       "      <th></th>\n",
       "      <th>date</th>\n",
       "      <th>home_team</th>\n",
       "      <th>away_team</th>\n",
       "      <th>home_score</th>\n",
       "      <th>away_score</th>\n",
       "      <th>tournament</th>\n",
       "    </tr>\n",
       "  </thead>\n",
       "  <tbody>\n",
       "    <tr>\n",
       "      <th>0</th>\n",
       "      <td>1969-11-01</td>\n",
       "      <td>Italy</td>\n",
       "      <td>France</td>\n",
       "      <td>1</td>\n",
       "      <td>0</td>\n",
       "      <td>Euro</td>\n",
       "    </tr>\n",
       "    <tr>\n",
       "      <th>1</th>\n",
       "      <td>1969-11-01</td>\n",
       "      <td>Denmark</td>\n",
       "      <td>England</td>\n",
       "      <td>4</td>\n",
       "      <td>3</td>\n",
       "      <td>Euro</td>\n",
       "    </tr>\n",
       "    <tr>\n",
       "      <th>2</th>\n",
       "      <td>1969-11-02</td>\n",
       "      <td>England</td>\n",
       "      <td>France</td>\n",
       "      <td>2</td>\n",
       "      <td>0</td>\n",
       "      <td>Euro</td>\n",
       "    </tr>\n",
       "    <tr>\n",
       "      <th>3</th>\n",
       "      <td>1969-11-02</td>\n",
       "      <td>Italy</td>\n",
       "      <td>Denmark</td>\n",
       "      <td>3</td>\n",
       "      <td>1</td>\n",
       "      <td>Euro</td>\n",
       "    </tr>\n",
       "    <tr>\n",
       "      <th>4</th>\n",
       "      <td>1975-08-25</td>\n",
       "      <td>Thailand</td>\n",
       "      <td>Australia</td>\n",
       "      <td>3</td>\n",
       "      <td>2</td>\n",
       "      <td>AFC Championship</td>\n",
       "    </tr>\n",
       "  </tbody>\n",
       "</table>\n",
       "</div>"
      ],
      "text/plain": [
       "         date home_team  away_team  home_score  away_score        tournament\n",
       "0  1969-11-01     Italy     France           1           0              Euro\n",
       "1  1969-11-01   Denmark    England           4           3              Euro\n",
       "2  1969-11-02   England     France           2           0              Euro\n",
       "3  1969-11-02     Italy    Denmark           3           1              Euro\n",
       "4  1975-08-25  Thailand  Australia           3           2  AFC Championship"
      ]
     },
     "execution_count": 11,
     "metadata": {},
     "output_type": "execute_result"
    }
   ],
   "source": [
    "df_XX.head()"
   ]
  },
  {
   "cell_type": "code",
   "execution_count": 12,
   "id": "1bede31a-b3bf-4e87-abc4-d86ba6b664cf",
   "metadata": {},
   "outputs": [],
   "source": [
    "df_XX['date']=pd.to_datetime(df_XX['date'],format='%Y-%m-%d')"
   ]
  },
  {
   "cell_type": "code",
   "execution_count": 13,
   "id": "30ea0a82-b2be-45ed-ba49-28c4a3094bab",
   "metadata": {},
   "outputs": [
    {
     "name": "stdout",
     "output_type": "stream",
     "text": [
      "<class 'pandas.core.frame.DataFrame'>\n",
      "Index: 4884 entries, 0 to 4883\n",
      "Data columns (total 6 columns):\n",
      " #   Column      Non-Null Count  Dtype         \n",
      "---  ------      --------------  -----         \n",
      " 0   date        4884 non-null   datetime64[ns]\n",
      " 1   home_team   4884 non-null   object        \n",
      " 2   away_team   4884 non-null   object        \n",
      " 3   home_score  4884 non-null   int64         \n",
      " 4   away_score  4884 non-null   int64         \n",
      " 5   tournament  4884 non-null   object        \n",
      "dtypes: datetime64[ns](1), int64(2), object(3)\n",
      "memory usage: 267.1+ KB\n"
     ]
    }
   ],
   "source": [
    "df_XX.info()"
   ]
  },
  {
   "cell_type": "code",
   "execution_count": 14,
   "id": "8e86c3a8-32f0-4e66-ad4d-89f7e327e531",
   "metadata": {},
   "outputs": [
    {
     "data": {
      "text/html": [
       "<div>\n",
       "<style scoped>\n",
       "    .dataframe tbody tr th:only-of-type {\n",
       "        vertical-align: middle;\n",
       "    }\n",
       "\n",
       "    .dataframe tbody tr th {\n",
       "        vertical-align: top;\n",
       "    }\n",
       "\n",
       "    .dataframe thead th {\n",
       "        text-align: right;\n",
       "    }\n",
       "</style>\n",
       "<table border=\"1\" class=\"dataframe\">\n",
       "  <thead>\n",
       "    <tr style=\"text-align: right;\">\n",
       "      <th></th>\n",
       "      <th>date</th>\n",
       "      <th>home_team</th>\n",
       "      <th>away_team</th>\n",
       "      <th>home_score</th>\n",
       "      <th>away_score</th>\n",
       "      <th>tournament</th>\n",
       "    </tr>\n",
       "  </thead>\n",
       "  <tbody>\n",
       "    <tr>\n",
       "      <th>count</th>\n",
       "      <td>4884</td>\n",
       "      <td>4884</td>\n",
       "      <td>4884</td>\n",
       "      <td>4884.000000</td>\n",
       "      <td>4884.000000</td>\n",
       "      <td>4884</td>\n",
       "    </tr>\n",
       "    <tr>\n",
       "      <th>unique</th>\n",
       "      <td>NaN</td>\n",
       "      <td>198</td>\n",
       "      <td>196</td>\n",
       "      <td>NaN</td>\n",
       "      <td>NaN</td>\n",
       "      <td>30</td>\n",
       "    </tr>\n",
       "    <tr>\n",
       "      <th>top</th>\n",
       "      <td>NaN</td>\n",
       "      <td>United States</td>\n",
       "      <td>Denmark</td>\n",
       "      <td>NaN</td>\n",
       "      <td>NaN</td>\n",
       "      <td>UEFA Euro qualification</td>\n",
       "    </tr>\n",
       "    <tr>\n",
       "      <th>freq</th>\n",
       "      <td>NaN</td>\n",
       "      <td>269</td>\n",
       "      <td>151</td>\n",
       "      <td>NaN</td>\n",
       "      <td>NaN</td>\n",
       "      <td>1445</td>\n",
       "    </tr>\n",
       "    <tr>\n",
       "      <th>mean</th>\n",
       "      <td>2007-08-17 22:29:11.351351296</td>\n",
       "      <td>NaN</td>\n",
       "      <td>NaN</td>\n",
       "      <td>2.272727</td>\n",
       "      <td>1.431409</td>\n",
       "      <td>NaN</td>\n",
       "    </tr>\n",
       "    <tr>\n",
       "      <th>min</th>\n",
       "      <td>1969-11-01 00:00:00</td>\n",
       "      <td>NaN</td>\n",
       "      <td>NaN</td>\n",
       "      <td>0.000000</td>\n",
       "      <td>0.000000</td>\n",
       "      <td>NaN</td>\n",
       "    </tr>\n",
       "    <tr>\n",
       "      <th>25%</th>\n",
       "      <td>2000-06-23 00:00:00</td>\n",
       "      <td>NaN</td>\n",
       "      <td>NaN</td>\n",
       "      <td>0.000000</td>\n",
       "      <td>0.000000</td>\n",
       "      <td>NaN</td>\n",
       "    </tr>\n",
       "    <tr>\n",
       "      <th>50%</th>\n",
       "      <td>2009-07-13 00:00:00</td>\n",
       "      <td>NaN</td>\n",
       "      <td>NaN</td>\n",
       "      <td>1.000000</td>\n",
       "      <td>1.000000</td>\n",
       "      <td>NaN</td>\n",
       "    </tr>\n",
       "    <tr>\n",
       "      <th>75%</th>\n",
       "      <td>2016-04-12 00:00:00</td>\n",
       "      <td>NaN</td>\n",
       "      <td>NaN</td>\n",
       "      <td>3.000000</td>\n",
       "      <td>2.000000</td>\n",
       "      <td>NaN</td>\n",
       "    </tr>\n",
       "    <tr>\n",
       "      <th>max</th>\n",
       "      <td>2022-07-31 00:00:00</td>\n",
       "      <td>NaN</td>\n",
       "      <td>NaN</td>\n",
       "      <td>24.000000</td>\n",
       "      <td>24.000000</td>\n",
       "      <td>NaN</td>\n",
       "    </tr>\n",
       "    <tr>\n",
       "      <th>std</th>\n",
       "      <td>NaN</td>\n",
       "      <td>NaN</td>\n",
       "      <td>NaN</td>\n",
       "      <td>2.736377</td>\n",
       "      <td>1.974651</td>\n",
       "      <td>NaN</td>\n",
       "    </tr>\n",
       "  </tbody>\n",
       "</table>\n",
       "</div>"
      ],
      "text/plain": [
       "                                 date      home_team away_team   home_score  \\\n",
       "count                            4884           4884      4884  4884.000000   \n",
       "unique                            NaN            198       196          NaN   \n",
       "top                               NaN  United States   Denmark          NaN   \n",
       "freq                              NaN            269       151          NaN   \n",
       "mean    2007-08-17 22:29:11.351351296            NaN       NaN     2.272727   \n",
       "min               1969-11-01 00:00:00            NaN       NaN     0.000000   \n",
       "25%               2000-06-23 00:00:00            NaN       NaN     0.000000   \n",
       "50%               2009-07-13 00:00:00            NaN       NaN     1.000000   \n",
       "75%               2016-04-12 00:00:00            NaN       NaN     3.000000   \n",
       "max               2022-07-31 00:00:00            NaN       NaN    24.000000   \n",
       "std                               NaN            NaN       NaN     2.736377   \n",
       "\n",
       "         away_score               tournament  \n",
       "count   4884.000000                     4884  \n",
       "unique          NaN                       30  \n",
       "top             NaN  UEFA Euro qualification  \n",
       "freq            NaN                     1445  \n",
       "mean       1.431409                      NaN  \n",
       "min        0.000000                      NaN  \n",
       "25%        0.000000                      NaN  \n",
       "50%        1.000000                      NaN  \n",
       "75%        2.000000                      NaN  \n",
       "max       24.000000                      NaN  \n",
       "std        1.974651                      NaN  "
      ]
     },
     "execution_count": 14,
     "metadata": {},
     "output_type": "execute_result"
    }
   ],
   "source": [
    "df_XX.describe(include='all')"
   ]
  },
  {
   "cell_type": "code",
   "execution_count": 15,
   "id": "7c1eda92-85ab-40db-956e-14434c85fc8e",
   "metadata": {},
   "outputs": [
    {
     "data": {
      "text/plain": [
       "tournament\n",
       "UEFA Euro qualification               1445\n",
       "Algarve Cup                            551\n",
       "FIFA World Cup                         284\n",
       "AFC Championship                       268\n",
       "Cyprus Cup                             258\n",
       "African Championship qualification     226\n",
       "UEFA Euro                              184\n",
       "African Championship                   173\n",
       "FIFA World Cup qualification           172\n",
       "CONCACAF Gold Cup qualification        143\n",
       "AFC Asian Cup qualification            141\n",
       "Copa América                           131\n",
       "Olympic Games                          130\n",
       "CONCACAF Gold Cup                      126\n",
       "Friendly                               111\n",
       "Name: count, dtype: int64"
      ]
     },
     "execution_count": 15,
     "metadata": {},
     "output_type": "execute_result"
    }
   ],
   "source": [
    "df_XX['tournament'].value_counts()[:15]"
   ]
  },
  {
   "cell_type": "code",
   "execution_count": 16,
   "id": "66617f5f-b05d-4ed5-8be6-6a12eb8a2106",
   "metadata": {},
   "outputs": [],
   "source": [
    "wc_xx=df_XX[(df_XX['tournament']=='FIFA World Cup')&(df_XX['date']>=dt.datetime(2002,1,1))].reset_index(drop=True)"
   ]
  },
  {
   "cell_type": "code",
   "execution_count": 17,
   "id": "b1cdf613-5a84-4852-ba70-a7585d5886e1",
   "metadata": {},
   "outputs": [
    {
     "data": {
      "text/html": [
       "<div>\n",
       "<style scoped>\n",
       "    .dataframe tbody tr th:only-of-type {\n",
       "        vertical-align: middle;\n",
       "    }\n",
       "\n",
       "    .dataframe tbody tr th {\n",
       "        vertical-align: top;\n",
       "    }\n",
       "\n",
       "    .dataframe thead th {\n",
       "        text-align: right;\n",
       "    }\n",
       "</style>\n",
       "<table border=\"1\" class=\"dataframe\">\n",
       "  <thead>\n",
       "    <tr style=\"text-align: right;\">\n",
       "      <th></th>\n",
       "      <th>date</th>\n",
       "      <th>home_team</th>\n",
       "      <th>away_team</th>\n",
       "      <th>home_score</th>\n",
       "      <th>away_score</th>\n",
       "      <th>tournament</th>\n",
       "      <th>total_goals</th>\n",
       "    </tr>\n",
       "  </thead>\n",
       "  <tbody>\n",
       "    <tr>\n",
       "      <th>0</th>\n",
       "      <td>2003-09-20</td>\n",
       "      <td>Nigeria</td>\n",
       "      <td>North Korea</td>\n",
       "      <td>0</td>\n",
       "      <td>3</td>\n",
       "      <td>FIFA World Cup</td>\n",
       "      <td>3</td>\n",
       "    </tr>\n",
       "    <tr>\n",
       "      <th>1</th>\n",
       "      <td>2003-09-20</td>\n",
       "      <td>Norway</td>\n",
       "      <td>France</td>\n",
       "      <td>2</td>\n",
       "      <td>0</td>\n",
       "      <td>FIFA World Cup</td>\n",
       "      <td>2</td>\n",
       "    </tr>\n",
       "    <tr>\n",
       "      <th>2</th>\n",
       "      <td>2003-09-20</td>\n",
       "      <td>Germany</td>\n",
       "      <td>Canada</td>\n",
       "      <td>4</td>\n",
       "      <td>1</td>\n",
       "      <td>FIFA World Cup</td>\n",
       "      <td>5</td>\n",
       "    </tr>\n",
       "    <tr>\n",
       "      <th>3</th>\n",
       "      <td>2003-09-20</td>\n",
       "      <td>Japan</td>\n",
       "      <td>Argentina</td>\n",
       "      <td>6</td>\n",
       "      <td>0</td>\n",
       "      <td>FIFA World Cup</td>\n",
       "      <td>6</td>\n",
       "    </tr>\n",
       "    <tr>\n",
       "      <th>4</th>\n",
       "      <td>2003-09-21</td>\n",
       "      <td>United States</td>\n",
       "      <td>Sweden</td>\n",
       "      <td>3</td>\n",
       "      <td>1</td>\n",
       "      <td>FIFA World Cup</td>\n",
       "      <td>4</td>\n",
       "    </tr>\n",
       "  </tbody>\n",
       "</table>\n",
       "</div>"
      ],
      "text/plain": [
       "        date      home_team    away_team  home_score  away_score  \\\n",
       "0 2003-09-20        Nigeria  North Korea           0           3   \n",
       "1 2003-09-20         Norway       France           2           0   \n",
       "2 2003-09-20        Germany       Canada           4           1   \n",
       "3 2003-09-20          Japan    Argentina           6           0   \n",
       "4 2003-09-21  United States       Sweden           3           1   \n",
       "\n",
       "       tournament  total_goals  \n",
       "0  FIFA World Cup            3  \n",
       "1  FIFA World Cup            2  \n",
       "2  FIFA World Cup            5  \n",
       "3  FIFA World Cup            6  \n",
       "4  FIFA World Cup            4  "
      ]
     },
     "execution_count": 17,
     "metadata": {},
     "output_type": "execute_result"
    }
   ],
   "source": [
    "wc_xx['total_goals']=wc_xx['home_score']+wc_xx['away_score']\n",
    "wc_xx.head()"
   ]
  },
  {
   "cell_type": "code",
   "execution_count": 18,
   "id": "2f7bb4f5-6543-47f5-b996-cc1bdd2e4a39",
   "metadata": {},
   "outputs": [
    {
     "data": {
      "text/plain": [
       "(200, 7)"
      ]
     },
     "execution_count": 18,
     "metadata": {},
     "output_type": "execute_result"
    }
   ],
   "source": [
    "wc_xx.shape"
   ]
  },
  {
   "cell_type": "code",
   "execution_count": 39,
   "id": "e9afbae4-d5fb-4cd8-ab32-1e2987696204",
   "metadata": {},
   "outputs": [
    {
     "data": {
      "image/png": "[encoded data removed]",
      "text/plain": [
       "<Figure size 640x480 with 1 Axes>"
      ]
     },
     "metadata": {},
     "output_type": "display_data"
    }
   ],
   "source": [
    "ax=sns.countplot(data=wc_xx,x='total_goals')\n",
    "ax.set(xlabel='Total goals', ylabel='Count',title='Women goals scored')\n",
    "plt.show()"
   ]
  },
  {
   "cell_type": "markdown",
   "id": "51a82a5a-fd8c-4290-8ba2-76306d2ef70f",
   "metadata": {},
   "source": [
    "### Plot comparing goals scored in the WC of football of MEN (XY) vs WOMEN (XX)."
   ]
  },
  {
   "cell_type": "code",
   "execution_count": 28,
   "id": "ab66fd46-347a-4028-ab07-3bd367d00fb5",
   "metadata": {},
   "outputs": [],
   "source": [
    "# Define the category range of total goals\n",
    "goal_range = range(14)  # This will be from 0 to 13\n",
    "\n",
    "# Convert 'total_goals' to a categorical type with the specified categories\n",
    "wc_xy['total_goals'] = pd.Categorical(wc_xy['total_goals'], categories=goal_range, ordered=True)\n",
    "wc_xx['total_goals'] = pd.Categorical(wc_xx['total_goals'], categories=goal_range, ordered=True)\n"
   ]
  },
  {
   "cell_type": "code",
   "execution_count": 42,
   "id": "fd8f4038-3012-4646-8e51-5d6fecd274f4",
   "metadata": {},
   "outputs": [
    {
     "data": {
      "image/png": "[encoded data removed]",
      "text/plain": [
       "<Figure size 640x480 with 1 Axes>"
      ]
     },
     "metadata": {},
     "output_type": "display_data"
    }
   ],
   "source": [
    "# Plotting the first countplot\n",
    "ax=sns.countplot(data=wc_xy, x='total_goals', color='pink', label='Men')\n",
    "\n",
    "# Plotting the second countplot with different color and transparency\n",
    "sns.countplot(data=wc_xx, x='total_goals', color='blue', alpha=0.4, label='Women')\n",
    "\n",
    "ax.set(xlabel='Total goals', ylabel='Count',title='Total goals scored')\n",
    "\n",
    "# Adding the legend\n",
    "plt.legend(title='Total goals')\n",
    "\n",
    "# Showing the plot\n",
    "plt.show()"
   ]
  },
  {
   "cell_type": "markdown",
   "id": "719f336e-22f6-4939-a923-5985b70e064b",
   "metadata": {},
   "source": [
    "### Chosing hypothesis."
   ]
  },
  {
   "cell_type": "markdown",
   "id": "3939b5a9-cb79-4b31-99a1-30ffa65d78b2",
   "metadata": {},
   "source": [
    "* Two different groups.\n",
    "    * Groups: XX, XY \n",
    "* Data is not paired and are independent.\n",
    "* As requested $\\alpha$ = 0.1\n",
    "* It is unclear about the normality of the samples, therefore, a normality test is required."
   ]
  },
  {
   "cell_type": "markdown",
   "id": "a6727a6d-2b5a-420c-a158-bc39ebec8d30",
   "metadata": {},
   "source": [
    "#### Hypothesis:"
   ]
  },
  {
   "cell_type": "markdown",
   "id": "53b97d06-6c68-48a0-9b05-ef5947b0c276",
   "metadata": {},
   "source": [
    "Comming back to the requirements of the Project:\n",
    "* mean number of goals scored in women's international soccer matches is the same as men's.\n",
    "  \n",
    "$H_0$ : The mean number of goals scored in women's international soccer matches is the same as men's.\n",
    "\n",
    "*Mean(XX Total goals) = Mean(XY Total goals)*\n",
    "\n",
    "$H_A$ : The mean number of goals scored in women's international soccer matches is greater than men's.\n",
    "\n",
    "*Mean(XX Total goals) **'greater'** Mean(XY Total goals)*\n",
    "\n",
    "* Use a 10% significance level.\n",
    "  \n",
    "$\\alpha$ = 0.1\n",
    "* assume that each match is fully independent (**un-paired**)\n",
    "\n",
    "unpaired=False\n",
    "\n",
    "* The p-value and the result of the test must be stored in a dictionary called result_dict in the form:\n",
    "* result_dict = {\"p_val\": p_val, \"result\": result}\n",
    "* where p_val is the p-value and result is either the string \"fail to reject\" or \"reject\", depending on the result of the test."
   ]
  },
  {
   "cell_type": "code",
   "execution_count": 34,
   "id": "c5d83f4f-2171-46f0-aa37-e2db4cf7ac2b",
   "metadata": {},
   "outputs": [
    {
     "name": "stdout",
     "output_type": "stream",
     "text": [
      "{'p_val': 0.005106609825443641, 'result': 'reject'}\n"
     ]
    }
   ],
   "source": [
    "# Parameters for the statistical test\n",
    "alpha = 0.1  # Significance level\n",
    "altern = 'greater'  # Alternative hypothesis type\n",
    "\n",
    "# Perform the Mann-Whitney U test on 'total_goals' using Pingouin\n",
    "test_results = pingouin.mwu(x=wc_xx['total_goals'].astype(int), \n",
    "                      y=wc_xy['total_goals'].astype(int), \n",
    "                      alternative=altern)\n",
    "\n",
    "# Extract the p-value from the test results\n",
    "p_val = float(test_results.loc['MWU', 'p-val'])\n",
    "\n",
    "# Determine the result based on the p-value and significance level\n",
    "if p_val < alpha:\n",
    "    result = 'reject'  # Reject the null hypothesis\n",
    "else:\n",
    "    result = 'fail to reject'  # Fail to reject the null hypothesis\n",
    "\n",
    "# Store and print the test results\n",
    "result_dict = {\"p_val\": p_val, \"result\": result}\n",
    "print(result_dict)\n"
   ]
  }
 ],
 "metadata": {
  "colab": {
   "name": "Welcome to DataCamp Workspaces.ipynb",
   "provenance": []
  },
  "kernelspec": {
   "display_name": "Python 3 (ipykernel)",
   "language": "python",
   "name": "python3"
  },
  "language_info": {
   "codemirror_mode": {
    "name": "ipython",
    "version": 3
   },
   "file_extension": ".py",
   "mimetype": "text/x-python",
   "name": "python",
   "nbconvert_exporter": "python",
   "pygments_lexer": "ipython3",
   "version": "3.11.9"
  }
 },
 "nbformat": 4,
 "nbformat_minor": 5
}
